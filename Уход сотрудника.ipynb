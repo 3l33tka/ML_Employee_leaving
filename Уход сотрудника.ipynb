{
 "cells": [
  {
   "cell_type": "code",
   "execution_count": 5,
   "metadata": {},
   "outputs": [
    {
     "name": "stdout",
     "output_type": "stream",
     "text": [
      "<class 'pandas.core.frame.DataFrame'>\n",
      "RangeIndex: 4153 entries, 0 to 4152\n",
      "Data columns (total 13 columns):\n",
      " #   Column                 Non-Null Count  Dtype\n",
      "---  ------                 --------------  -----\n",
      " 0   Год начала работы      4153 non-null   int64\n",
      " 1   Уровень оплаты         4153 non-null   int64\n",
      " 2   Возраст                4153 non-null   int64\n",
      " 3   Пол                    4153 non-null   int64\n",
      " 4   Отстранения            4153 non-null   int64\n",
      " 5   Опыт                   4153 non-null   int64\n",
      " 6   Увольнение             4153 non-null   int64\n",
      " 7   Образование_Bachelors  4153 non-null   uint8\n",
      " 8   Образование_Masters    4153 non-null   uint8\n",
      " 9   Образование_PHD        4153 non-null   uint8\n",
      " 10  Город_Bangalore        4153 non-null   uint8\n",
      " 11  Город_New Delhi        4153 non-null   uint8\n",
      " 12  Город_Pune             4153 non-null   uint8\n",
      "dtypes: int64(7), uint8(6)\n",
      "memory usage: 251.6 KB\n"
     ]
    },
    {
     "ename": "ValueError",
     "evalue": "operands could not be broadcast together with shapes (500,) (499,) ",
     "output_type": "error",
     "traceback": [
      "\u001b[1;31m---------------------------------------------------------------------------\u001b[0m",
      "\u001b[1;31mValueError\u001b[0m                                Traceback (most recent call last)",
      "\u001b[1;32m<ipython-input-5-b651162fdd78>\u001b[0m in \u001b[0;36m<module>\u001b[1;34m\u001b[0m\n\u001b[0;32m     38\u001b[0m \u001b[0mplt\u001b[0m\u001b[1;33m.\u001b[0m\u001b[0mhist\u001b[0m\u001b[1;33m(\u001b[0m\u001b[0my_test_rf\u001b[0m\u001b[1;33m)\u001b[0m\u001b[1;33m\u001b[0m\u001b[1;33m\u001b[0m\u001b[0m\n\u001b[0;32m     39\u001b[0m \u001b[1;31m#mean_squared_error(y_test_linreq, y_data_true)\u001b[0m\u001b[1;33m\u001b[0m\u001b[1;33m\u001b[0m\u001b[1;33m\u001b[0m\u001b[0m\n\u001b[1;32m---> 40\u001b[1;33m \u001b[0mk\u001b[0m \u001b[1;33m=\u001b[0m \u001b[1;33m(\u001b[0m\u001b[1;36m200\u001b[0m \u001b[1;33m-\u001b[0m \u001b[0msum\u001b[0m\u001b[1;33m(\u001b[0m\u001b[1;33m(\u001b[0m\u001b[0my_test_linreq\u001b[0m\u001b[1;33m-\u001b[0m\u001b[0my_data_true\u001b[0m\u001b[1;33m)\u001b[0m\u001b[1;33m**\u001b[0m\u001b[1;36m2\u001b[0m\u001b[1;33m)\u001b[0m\u001b[1;33m**\u001b[0m\u001b[1;36m0.5\u001b[0m\u001b[1;33m)\u001b[0m\u001b[1;33m/\u001b[0m\u001b[1;36m20\u001b[0m\u001b[1;33m\u001b[0m\u001b[1;33m\u001b[0m\u001b[0m\n\u001b[0m\u001b[0;32m     41\u001b[0m \u001b[0mk\u001b[0m\u001b[1;33m\u001b[0m\u001b[1;33m\u001b[0m\u001b[0m\n",
      "\u001b[1;31mValueError\u001b[0m: operands could not be broadcast together with shapes (500,) (499,) "
     ]
    },
    {
     "data": {
      "image/png": "[encoded data removed]",
      "text/plain": [
       "<Figure size 432x288 with 1 Axes>"
      ]
     },
     "metadata": {
      "needs_background": "light"
     },
     "output_type": "display_data"
    }
   ],
   "source": [
    "import pandas as pd\n",
    "import numpy as np\n",
    "import matplotlib.pyplot as plt\n",
    "%matplotlib inline\n",
    "from sklearn import ensemble, linear_model\n",
    "from sklearn.model_selection import cross_val_score\n",
    "from sklearn.metrics import mean_squared_error\n",
    "data = pd.read_csv('employee_leave_train.csv').drop('Unnamed: 0', axis = 1)\n",
    "#предобработка\n",
    "data['Отстранения'] = data['Отстранения'].apply(lambda x: 1 if x == 'Yes' else 0)\n",
    "data['Пол'] = data['Пол'].apply(lambda x: 1 if x == 'Male' else 0)\n",
    "categ_columns = [x for x in data.columns if data[x].dtype == 'object']  #необходимо отметить какие колонки не имею тд числовые\n",
    "categ_columns\n",
    "data = pd.get_dummies(data, categ_columns)\n",
    "data.info()\n",
    "y = data['Увольнение'] #признак\n",
    "x = data.drop('Увольнение', axis = 1)#переменная\n",
    "#модель\n",
    "linreq = linear_model.LinearRegression()\n",
    "rf = ensemble.RandomForestRegressor(n_estimators=100, max_depth=10, min_samples_split=7)\n",
    "gf = ensemble.GradientBoostingRegressor(n_estimators=70, max_depth=5, min_samples_split=10)\n",
    "linreq.fit(x,y)\n",
    "rf.fit(x,y)\n",
    "gf.fit(x,y)\n",
    "#тестовая часть\n",
    "data_test = pd.read_csv('employee_leave_test.csv').drop('Unnamed: 0', axis = 1)\n",
    "data_test['Отстранения'] = data_test['Отстранения'].apply(lambda x: 1 if x == 'Yes' else 0)\n",
    "data_test['Пол'] = data_test['Пол'].apply(lambda x: 1 if x == 'Male' else 0)\n",
    "categ_columns1 = [x for x in data_test.columns if data_test[x].dtype == 'object']  #необходимо отметить какие колонки не имею тд числовые\n",
    "categ_columns1\n",
    "data_test = pd.get_dummies(data_test, categ_columns1)\n",
    "data_test.shape, data.shape\n",
    "y_test_linreq = linreq.predict(data_test)\n",
    "y_test_rf = rf.predict(data_test)\n",
    "y_test_gf = gf.predict(data_test)\n",
    "y_data_true = np.array(pd.read_csv('sample_submission.csv')).flatten()\n",
    "plt.hist(y_data_true)\n",
    "plt.hist(y_test_rf)\n",
    "#mean_squared_error(y_test_linreq, y_data_true)\n",
    "k = (200 - sum((y_test_linreq-y_data_true)**2)**0.5)/20\n",
    "k"
   ]
  },
  {
   "cell_type": "code",
   "execution_count": null,
   "metadata": {},
   "outputs": [],
   "source": []
  },
  {
   "cell_type": "code",
   "execution_count": null,
   "metadata": {},
   "outputs": [],
   "source": []
  }
 ],
 "metadata": {
  "kernelspec": {
   "display_name": "Python 3",
   "language": "python",
   "name": "python3"
  },
  "language_info": {
   "codemirror_mode": {
    "name": "ipython",
    "version": 3
   },
   "file_extension": ".py",
   "mimetype": "text/x-python",
   "name": "python",
   "nbconvert_exporter": "python",
   "pygments_lexer": "ipython3",
   "version": "3.8.5"
  }
 },
 "nbformat": 4,
 "nbformat_minor": 4
}
